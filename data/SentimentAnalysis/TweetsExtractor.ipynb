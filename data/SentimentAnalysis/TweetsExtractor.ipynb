{
 "metadata": {
  "name": "",
  "signature": "sha256:c1a93c27756fb56cb9125f23454919ac5e1f1cc07610cc1d9335b2902d2a721f"
 },
 "nbformat": 3,
 "nbformat_minor": 0,
 "worksheets": [
  {
   "cells": [
    {
     "cell_type": "code",
     "collapsed": false,
     "input": [
      "import sys\n",
      "print(sys.version)\n",
      "import pandas as pd\n",
      "import numpy as np\n",
      "import json\n",
      "import re"
     ],
     "language": "python",
     "metadata": {},
     "outputs": [
      {
       "output_type": "stream",
       "stream": "stdout",
       "text": [
        "3.3.5 |Anaconda 1.9.2 (x86_64)| (default, Mar 10 2014, 11:22:25) \n",
        "[GCC 4.0.1 (Apple Inc. build 5493)]\n"
       ]
      }
     ],
     "prompt_number": 69
    },
    {
     "cell_type": "code",
     "collapsed": false,
     "input": [
      "def decode_tweet(tweet): \n",
      "    tweet.encode().decode('unicode-escape')"
     ],
     "language": "python",
     "metadata": {},
     "outputs": [],
     "prompt_number": 1
    },
    {
     "cell_type": "code",
     "collapsed": false,
     "input": [],
     "language": "python",
     "metadata": {},
     "outputs": [],
     "prompt_number": 54
    },
    {
     "cell_type": "code",
     "collapsed": false,
     "input": [
      "\":)\" in tweet[\"text\"]"
     ],
     "language": "python",
     "metadata": {},
     "outputs": [
      {
       "metadata": {},
       "output_type": "pyout",
       "prompt_number": 55,
       "text": [
        "False"
       ]
      }
     ],
     "prompt_number": 55
    },
    {
     "cell_type": "code",
     "collapsed": false,
     "input": [
      "file_name = \"all_tweets\"\n",
      "tweets  = open(file_name)\n",
      "happy = open(\"happy_tweets\",\"w\")\n",
      "sad = open(\"sad_tweets\",\"w\")\n",
      "target = open(\"target\",\"w\")\n",
      "for line in tweets:\n",
      "    tweet = json.loads(line)\n",
      "    tweet_text = tweet['text']\n",
      "    if (len(tweet_text) < 30):\n",
      "        continue\n",
      "    if (\":)\" in tweet_text) or (\";)\" in tweet_text) or ('=)' in tweet_text) or (')))' in tweet_text):\n",
      "        happy.write(tweet['text'].replace(\"\\n\",\" \") + \"\\n\")\n",
      "    elif (\":(\" in tweet_text) or (\";(\" in tweet_text) or ('=(' in tweet_text) or ('(((' in tweet_text): \n",
      "        sad.write(tweet_text.replace(\"\\n\",\" \") + \"\\n\")\n",
      "    if \"\u043f\u043e\u0447\u0442\u0430 \u0440\u043e\u0441\u0441\u0438\u0438\" in tweet_text.lower():\n",
      "        target.write(tweet_text.replace(\"\\n\",\" \") + \"\\n\")\n",
      "        \n",
      "happy.flush()\n",
      "sad.flush()\n",
      "target.flush()\n",
      "happy.close()\n",
      "sad.close()\n",
      "target.close()"
     ],
     "language": "python",
     "metadata": {},
     "outputs": [],
     "prompt_number": 113
    },
    {
     "cell_type": "code",
     "collapsed": false,
     "input": [],
     "language": "python",
     "metadata": {},
     "outputs": [],
     "prompt_number": 58
    },
    {
     "cell_type": "code",
     "collapsed": false,
     "input": [
      "df = pd.read_csv(\"test-russian-post\",names=[\"class\",\"tweet\"],sep=\"\\t\")"
     ],
     "language": "python",
     "metadata": {},
     "outputs": [],
     "prompt_number": 155
    },
    {
     "cell_type": "code",
     "collapsed": false,
     "input": [
      "df[df[\"tweet\"].apply(lambda s: len(str(s))) < 30]"
     ],
     "language": "python",
     "metadata": {},
     "outputs": [
      {
       "html": [
        "<div style=\"max-height:1000px;max-width:1500px;overflow:auto;\">\n",
        "<table border=\"1\" class=\"dataframe\">\n",
        "  <thead>\n",
        "    <tr style=\"text-align: right;\">\n",
        "      <th></th>\n",
        "      <th>class</th>\n",
        "      <th>tweet</th>\n",
        "    </tr>\n",
        "  </thead>\n",
        "  <tbody>\n",
        "    <tr>\n",
        "      <th>149</th>\n",
        "      <td>  0</td>\n",
        "      <td> \u043d\u0443 \u0438 \u0442\u043e\u0440\u043c\u043e\u0437\u043d\u0443\u0442\u0430\u044f #\u043f\u043e\u0447\u0442\u0430\u0440\u043e\u0441\u0441\u0438\u0438</td>\n",
        "    </tr>\n",
        "    <tr>\n",
        "      <th>150</th>\n",
        "      <td>  0</td>\n",
        "      <td> \u041f\u043e\u0447\u0442\u0430 \u0420\u043e\u0441\u0441\u0438\u0438,\u043d\u0435\u043d\u0430\u0432\u0438\u0436\u0443 \u0442\u0435\u0431\u044f!!!</td>\n",
        "    </tr>\n",
        "    <tr>\n",
        "      <th>221</th>\n",
        "      <td>NaN</td>\n",
        "      <td>                           NaN</td>\n",
        "    </tr>\n",
        "    <tr>\n",
        "      <th>222</th>\n",
        "      <td>NaN</td>\n",
        "      <td>                           NaN</td>\n",
        "    </tr>\n",
        "    <tr>\n",
        "      <th>223</th>\n",
        "      <td>NaN</td>\n",
        "      <td>                           NaN</td>\n",
        "    </tr>\n",
        "    <tr>\n",
        "      <th>224</th>\n",
        "      <td>NaN</td>\n",
        "      <td>                           NaN</td>\n",
        "    </tr>\n",
        "    <tr>\n",
        "      <th>225</th>\n",
        "      <td>NaN</td>\n",
        "      <td>                           NaN</td>\n",
        "    </tr>\n",
        "    <tr>\n",
        "      <th>226</th>\n",
        "      <td>NaN</td>\n",
        "      <td>                           NaN</td>\n",
        "    </tr>\n",
        "    <tr>\n",
        "      <th>227</th>\n",
        "      <td>NaN</td>\n",
        "      <td>                           NaN</td>\n",
        "    </tr>\n",
        "    <tr>\n",
        "      <th>228</th>\n",
        "      <td>NaN</td>\n",
        "      <td>                           NaN</td>\n",
        "    </tr>\n",
        "    <tr>\n",
        "      <th>229</th>\n",
        "      <td>NaN</td>\n",
        "      <td>                           NaN</td>\n",
        "    </tr>\n",
        "    <tr>\n",
        "      <th>230</th>\n",
        "      <td>NaN</td>\n",
        "      <td>                           NaN</td>\n",
        "    </tr>\n",
        "    <tr>\n",
        "      <th>231</th>\n",
        "      <td>NaN</td>\n",
        "      <td>                           NaN</td>\n",
        "    </tr>\n",
        "    <tr>\n",
        "      <th>232</th>\n",
        "      <td>NaN</td>\n",
        "      <td>                           NaN</td>\n",
        "    </tr>\n",
        "    <tr>\n",
        "      <th>233</th>\n",
        "      <td>NaN</td>\n",
        "      <td>                           NaN</td>\n",
        "    </tr>\n",
        "    <tr>\n",
        "      <th>234</th>\n",
        "      <td>NaN</td>\n",
        "      <td>                           NaN</td>\n",
        "    </tr>\n",
        "  </tbody>\n",
        "</table>\n",
        "<p>16 rows \u00d7 2 columns</p>\n",
        "</div>"
       ],
       "metadata": {},
       "output_type": "pyout",
       "prompt_number": 154,
       "text": [
        "     class                          tweet\n",
        "149      0  \u043d\u0443 \u0438 \u0442\u043e\u0440\u043c\u043e\u0437\u043d\u0443\u0442\u0430\u044f #\u043f\u043e\u0447\u0442\u0430\u0440\u043e\u0441\u0441\u0438\u0438\n",
        "150      0  \u041f\u043e\u0447\u0442\u0430 \u0420\u043e\u0441\u0441\u0438\u0438,\u043d\u0435\u043d\u0430\u0432\u0438\u0436\u0443 \u0442\u0435\u0431\u044f!!!\n",
        "221    NaN                            NaN\n",
        "222    NaN                            NaN\n",
        "223    NaN                            NaN\n",
        "224    NaN                            NaN\n",
        "225    NaN                            NaN\n",
        "226    NaN                            NaN\n",
        "227    NaN                            NaN\n",
        "228    NaN                            NaN\n",
        "229    NaN                            NaN\n",
        "230    NaN                            NaN\n",
        "231    NaN                            NaN\n",
        "232    NaN                            NaN\n",
        "233    NaN                            NaN\n",
        "234    NaN                            NaN\n",
        "\n",
        "[16 rows x 2 columns]"
       ]
      }
     ],
     "prompt_number": 154
    },
    {
     "cell_type": "code",
     "collapsed": false,
     "input": [
      "sad_post = df[df[\"class\"] == 0][\"tweet\"]"
     ],
     "language": "python",
     "metadata": {},
     "outputs": [],
     "prompt_number": 157
    },
    {
     "cell_type": "code",
     "collapsed": false,
     "input": [
      "happy_post = df[df[\"class\"] == 1][\"tweet\"]"
     ],
     "language": "python",
     "metadata": {},
     "outputs": [],
     "prompt_number": 158
    },
    {
     "cell_type": "code",
     "collapsed": false,
     "input": [
      "sad_post.shape"
     ],
     "language": "python",
     "metadata": {},
     "outputs": [
      {
       "metadata": {},
       "output_type": "pyout",
       "prompt_number": 159,
       "text": [
        "(173,)"
       ]
      }
     ],
     "prompt_number": 159
    },
    {
     "cell_type": "code",
     "collapsed": false,
     "input": [
      "happy_post.shape"
     ],
     "language": "python",
     "metadata": {},
     "outputs": [
      {
       "metadata": {},
       "output_type": "pyout",
       "prompt_number": 160,
       "text": [
        "(48,)"
       ]
      }
     ],
     "prompt_number": 160
    },
    {
     "cell_type": "code",
     "collapsed": false,
     "input": [
      "out = open(\"sad_posts\",\"w\")\n",
      "for tweet in  sad_post:\n",
      "    out.write(tweet + \"\\n\")\n",
      "out.flush()\n",
      "out.close()\n",
      "out = open(\"happy_posts\",\"w\")\n",
      "for tweet in happy_post:\n",
      "    out.write(tweet+\"\\n\")\n",
      "out.flush()\n",
      "out.close()"
     ],
     "language": "python",
     "metadata": {},
     "outputs": [],
     "prompt_number": 161
    },
    {
     "cell_type": "code",
     "collapsed": false,
     "input": [
      "np.savetxt(\"happy_post\",happy_post.values,delimiter='\\n')"
     ],
     "language": "python",
     "metadata": {},
     "outputs": [
      {
       "ename": "TypeError",
       "evalue": "a float is required",
       "output_type": "pyerr",
       "traceback": [
        "\u001b[0;31m---------------------------------------------------------------------------\u001b[0m\n\u001b[0;31mTypeError\u001b[0m                                 Traceback (most recent call last)",
        "\u001b[0;32m<ipython-input-142-ba26b88c35c8>\u001b[0m in \u001b[0;36m<module>\u001b[0;34m()\u001b[0m\n\u001b[0;32m----> 1\u001b[0;31m \u001b[0mnp\u001b[0m\u001b[0;34m.\u001b[0m\u001b[0msavetxt\u001b[0m\u001b[0;34m(\u001b[0m\u001b[0;34m\"happy_post\"\u001b[0m\u001b[0;34m,\u001b[0m\u001b[0mhappy_post\u001b[0m\u001b[0;34m.\u001b[0m\u001b[0mvalues\u001b[0m\u001b[0;34m,\u001b[0m\u001b[0mdelimiter\u001b[0m\u001b[0;34m=\u001b[0m\u001b[0;34m'\\n'\u001b[0m\u001b[0;34m)\u001b[0m\u001b[0;34m\u001b[0m\u001b[0m\n\u001b[0m",
        "\u001b[0;32m/Users/Vasily/anaconda/envs/py3k/lib/python3.3/site-packages/numpy/lib/npyio.py\u001b[0m in \u001b[0;36msavetxt\u001b[0;34m(fname, X, fmt, delimiter, newline, header, footer, comments)\u001b[0m\n\u001b[1;32m   1071\u001b[0m         \u001b[0;32melse\u001b[0m\u001b[0;34m:\u001b[0m\u001b[0;34m\u001b[0m\u001b[0m\n\u001b[1;32m   1072\u001b[0m             \u001b[0;32mfor\u001b[0m \u001b[0mrow\u001b[0m \u001b[0;32min\u001b[0m \u001b[0mX\u001b[0m\u001b[0;34m:\u001b[0m\u001b[0;34m\u001b[0m\u001b[0m\n\u001b[0;32m-> 1073\u001b[0;31m                 \u001b[0mfh\u001b[0m\u001b[0;34m.\u001b[0m\u001b[0mwrite\u001b[0m\u001b[0;34m(\u001b[0m\u001b[0masbytes\u001b[0m\u001b[0;34m(\u001b[0m\u001b[0mformat\u001b[0m \u001b[0;34m%\u001b[0m \u001b[0mtuple\u001b[0m\u001b[0;34m(\u001b[0m\u001b[0mrow\u001b[0m\u001b[0;34m)\u001b[0m \u001b[0;34m+\u001b[0m \u001b[0mnewline\u001b[0m\u001b[0;34m)\u001b[0m\u001b[0;34m)\u001b[0m\u001b[0;34m\u001b[0m\u001b[0m\n\u001b[0m\u001b[1;32m   1074\u001b[0m         \u001b[0;32mif\u001b[0m \u001b[0mlen\u001b[0m\u001b[0;34m(\u001b[0m\u001b[0mfooter\u001b[0m\u001b[0;34m)\u001b[0m \u001b[0;34m>\u001b[0m \u001b[0;36m0\u001b[0m\u001b[0;34m:\u001b[0m\u001b[0;34m\u001b[0m\u001b[0m\n\u001b[1;32m   1075\u001b[0m             \u001b[0mfooter\u001b[0m \u001b[0;34m=\u001b[0m \u001b[0mfooter\u001b[0m\u001b[0;34m.\u001b[0m\u001b[0mreplace\u001b[0m\u001b[0;34m(\u001b[0m\u001b[0;34m'\\n'\u001b[0m\u001b[0;34m,\u001b[0m \u001b[0;34m'\\n'\u001b[0m \u001b[0;34m+\u001b[0m \u001b[0mcomments\u001b[0m\u001b[0;34m)\u001b[0m\u001b[0;34m\u001b[0m\u001b[0m\n",
        "\u001b[0;31mTypeError\u001b[0m: a float is required"
       ]
      }
     ],
     "prompt_number": 142
    },
    {
     "cell_type": "code",
     "collapsed": false,
     "input": [
      "happy_post.values"
     ],
     "language": "python",
     "metadata": {},
     "outputs": [
      {
       "metadata": {},
       "output_type": "pyout",
       "prompt_number": 141,
       "text": [
        "array([ '\u041f\u043e\u043b\u0443\u0447\u0430\u044e \u043f\u043e\u0441\u044b\u043b\u043e\u0447\u043a\u0443 \u0441 \u041a\u0438\u0442\u0430\u044e (@ \u041f\u043e\u0447\u0442\u0430 \u0420\u043e\u0441\u0441\u0438\u0438 194153 - @ruspostofficial) http://t.co/bXh3uo7zWt http://t.co/M5SA65VugR',\n",
        "       '\u041f\u0435\u0440\u0435\u0434\u043e \u043c\u043d\u043e\u0439 \u0432\u0441\u0435\u0433\u043e 3 \u0447\u0435\u043b\u043e\u0432\u0435\u043a\u0430!! \u0412\u043e\u0442 \u044d\u0442\u043e \u0414\u0410! (@ \u041f\u043e\u0447\u0442\u0430 \u0420\u043e\u0441\u0441\u0438\u0438 198332 - @ruspostofficial) http://t.co/ILXbN0qCaF',\n",
        "       '\u041d\u0435\u0442 \u043e\u0447\u0435\u0440\u0435\u0434\u0435\u0439 \u0438 \u043d\u0438\u043a\u0442\u043e \u043d\u0435 \u043d\u0430\u0433\u0440\u0443\u0431\u0438\u043b, \u0443\u0434\u0438\u0432\u043b\u0451\u043d ;) (@ \u041f\u043e\u0447\u0442\u0430 \u0420\u043e\u0441\u0441\u0438\u0438 192241 - @ruspostofficial) http://t.co/wKIpWDAa72',\n",
        "       '\u043d\u0430 \u0443\u0434\u0438\u0432\u043b\u0435\u043d\u0438\u0435 \u0431\u0435\u0437 \u043e\u0447\u0435\u0440\u0435\u0434\u0435\u0439 :) (@ \u041f\u043e\u0447\u0442\u0430 \u0420\u043e\u0441\u0441\u0438\u0438 197022 - @ruspostofficial) http://t.co/yyqViTYrPo',\n",
        "       '\u041f\u043e\u0447\u0442\u0430 \u0420\u043e\u0441\u0441\u0438\u0438 \u0440\u0443\u043b\u0438\u0442\ud83d\udc4d (@ EMS (\u0441\u043e\u0440\u0442\u0438\u0440\u043e\u0432\u043e\u0447\u043d\u044b\u0439 \u0446\u0435\u043d\u0442\u0440)) http://t.co/ziWgedGc7H',\n",
        "       '\u041d\u0430\u043a\u043e\u043d\u0435\u0446-\u0442\u043e \u0437\u0430\u0431\u0438\u0440\u0430\u044e \u0441\u0432\u043e\u0438 \u043f\u0440\u0435\u043b\u0435\u0441\u0442\u0438 &lt;3 (@ \u041f\u043e\u0447\u0442\u0430 \u0420\u043e\u0441\u0441\u0438\u0438 196128 - @ruspostofficial w/ 2 others) http://t.co/RjRGLaee39 http://t.co/tJWObNmOUj',\n",
        "       '\u041d\u0438\u043a\u043e\u0433\u0434\u0430, \u043d\u0438\u043a\u043e\u0433\u0434\u0430 \u043d\u0435 \u0432\u044b\u0431\u0438\u0440\u0430\u0439\u0442\u0435 boxberry! \u041f\u043e\u0447\u0442\u0430 \u0420\u043e\u0441\u0441\u0438\u0438 \u0431\u044b\u0441\u0442\u0440\u0435\u0435 \ud83d\udcaf',\n",
        "       '\u041f\u043e\u0447\u0442\u0430 \u0420\u043e\u0441\u0441\u0438\u0438 \u0432 \u0441\u0440\u043e\u043a \u0432\u044b\u043f\u043e\u043b\u043d\u0438\u0442 \u043e\u0431\u044f\u0437\u0430\u0442\u0435\u043b\u044c\u0441\u0442\u0432\u0430 \u043f\u0435\u0440\u0435\u0434 \u043a\u043b\u0438\u0435\u043d\u0442\u0430\u043c\u0438 \u043d\u0435\u0441\u043c\u043e\u0442\u0440\u044f \u043d\u0430 \u043d\u0430\u043f\u0430\u0434\u0435\u043d\u0438\u0435 \u0432 \u0413\u0434\u043e\u0432\u0441\u043a\u043e\u043c \u0440\u0430\u0439\u043e\u043d\u0435',\n",
        "       '\u00ab\u041f\u043e\u0447\u0442\u0430 \u0420\u043e\u0441\u0441\u0438\u0438\u00bb \u043e\u0442\u043a\u0440\u043e\u0435\u0442 \u043b\u043e\u0433\u0438\u0441\u0442\u0438\u0447\u0435\u0441\u043a\u0438\u0435 \u0446\u0435\u043d\u0442\u0440\u044b \u0432 \u041b\u0435\u043d\u0438\u043d\u0433\u0440\u0430\u0434\u0441\u043a\u043e\u0439 \u043e\u0431\u043b\u0430\u0441\u0442\u0438 #rt',\n",
        "       '\u041f\u043e\u0447\u0442\u0430 \u0420\u043e\u0441\u0441\u0438\u0438, \u041f\u043e\u0447\u0442\u0430 \u0420\u043e\u0441\u0441\u0438\u0438... \u041f\u043e\u0441\u044b\u043b\u043a\u0430 \u043f\u0440\u043e\u0431\u044b\u043b\u0430 \u043d\u0430 \u0442\u0435\u0440\u0440\u0438\u0442\u043e\u0440\u0438\u0438 \u0421\u0428\u0410 5 \u0434\u043d\u0435\u0439, \u0438 \u0447\u0435\u0440\u0435\u0437 2 \u0434\u043d\u044f \u0438\u0437\u0432\u0435\u0449\u0435\u043d\u0438\u0435 \u0443\u0436\u0435 \u043b\u0435\u0436\u0430\u043b\u043e \u0443 \u043c\u0435\u043d\u044f \u0432 \u043f\u043e\u0447\u0442\u043e\u0432\u043e\u043c \u044f\u0449\u0438\u043a\u0435. \u0422\u0430\u043a-\u0442\u043e',\n",
        "       '\u041f\u043e\u0447\u0442\u0430 \u0420\u043e\u0441\u0441\u0438\u0438, \u043a\u0441\u0442\u0430\u0442\u0438, \u0440\u0435\u0448\u0438\u043b\u0430 \u0438\u0441\u043f\u0440\u0430\u0432\u0438\u0442\u044c\u0441\u044f \u0438 \u0434\u043e\u0441\u0442\u0430\u0432\u0438\u043b\u0430 \u043e\u0442\u043a\u0440\u044b\u0442\u043a\u0443 \u0438\u0437 \u041a\u0430\u0437\u0430\u043d\u0438 (\u0441\u0430\u043c \u0441\u0435\u0431\u0435 \u043e\u0442\u043f\u0440\u0430\u0432\u0438\u043b \u0447\u0442\u043e\u0431\u044b \u043f\u0440\u043e\u043f\u0438\u043d\u0433\u043e\u0432\u0430\u0442\u044c \u0441\u043e\u0431\u0441\u0442\u0432\u0435\u043d\u043d\u044b\u0439 \u0430\u0434\u0440\u0435\u0441)',\n",
        "       '\u0412\u0441\u0451 \u043f\u043e\u0437\u043d\u0430\u0435\u0442\u0441\u044f \u0432 \u0441\u0440\u0430\u0432\u043d\u0435\u043d\u0438\u0438: \u00ab\u041f\u043e\u0447\u0442\u0430 \u0420\u043e\u0441\u0441\u0438\u0438\u00bb \u0434\u043e\u0441\u0442\u0430\u0432\u0438\u043b\u0430 \u043f\u043e\u0441\u044b\u043b\u043a\u0443 \u0441 \u043b\u0435\u043a\u0430\u0440\u0441\u0442\u0432\u0430\u043c\u0438 \u0440\u0430\u043d\u044c\u0448\u0435, \u0447\u0435\u043c \u043f\u0440\u0438\u0435\u0445\u0430\u043b\u0430 \u0441\u043a\u043e\u0440\u0430\u044f.',\n",
        "       '\u0427\u0442\u043e \u0441\u0442\u0440\u0430\u043d\u043d\u043e, \u0447\u0442\u043e \u043f\u0438\u0441\u044c\u043c\u0430 \u043f\u0440\u0438\u0445\u043e\u0434\u044f\u0442 \u043c\u043d\u0435, \u0438 \u0434\u043e\u0445\u043e\u0434\u044f\u0442 \u043c\u043e\u0438 \u0434\u043e \u043b\u044e\u0434\u0435\u0439. \u041f\u043e\u0447\u0442\u0430 \u0440\u043e\u0441\u0441\u0438\u0438, \u0447\u0442\u043e \u0441 \u0442\u043e\u0431\u043e\u0439?!',\n",
        "       'Den_Marino: \u041f\u043e\u0447\u0442\u0430 \u0420\u043e\u0441\u0441\u0438\u0438 \u043d\u0435 \u043f\u0435\u0440\u0435\u0441\u0442\u0430\u0435\u0442 \u0443\u0434\u0438\u0432\u043b\u044f\u0442\u044c! \u041e\u0444\u043e\u0440\u043c\u0438\u043b \u043d\u0430 \u0438\u0445 \u0441\u0430\u0439\u0442\u0435 \u043f\u043e\u0434\u043f\u0438\u0441\u043a\u0443 \u043d\u0430 \u0440\u0430\u0441\u0441\u044b\u043b\u043a\u0443 (\u043d\u0430 \u043c\u044b\u043b\u043e) \u0443\u0432\u0435\u0434\u043e\u043c\u043b\u0435\u043d\u0438\u0439 .. http://vk.cc/2AiSOK',\n",
        "       '\u041f\u0440\u0430\u0437\u0434\u043d\u0438\u043a\u0438 \u0437\u0430\u043a\u043e\u043d\u0447\u0438\u043b\u0438\u0441\u044c \u0438 \u041f\u043e\u0447\u0442\u0430 \u0420\u043e\u0441\u0441\u0438\u0438 \u043d\u0430\u0447\u0430\u043b\u0430 \u0440\u0430\u0431\u043e\u0442\u0430\u0442\u044c. \u0421\u0440\u0430\u0437\u0443 \u0438 \u043f\u043e\u0441\u044b\u043b\u043a\u0430 \u0438\u0437 \u0412\u043b\u0430\u0434\u0438\u0432\u043e\u0441\u0442\u043e\u043a\u0430 \u043f\u0440\u0438\u0435\u0445\u0430\u043b\u0430.',\n",
        "       '\u0417\u0430 13 \u0434\u043d\u0435\u0439 \u0438\u0437 \u041a\u0438\u0442\u0430\u044f \u0432 \u0420\u044b\u0431\u0438\u043d\u0441\u043a. \u0412\u043e\u0443, \u0432\u043e\u0443, \u0432\u043e\u0443 \u041f\u043e\u0447\u0442\u0430 \u0420\u043e\u0441\u0441\u0438\u0438 \u0440\u0430\u0437\u043e\u0433\u043d\u0430\u043b\u0430\u0441\u044c',\n",
        "       '\u041f\u043e\u0447\u0442\u0430 \u0440\u043e\u0441\u0441\u0438\u0438 \u043d\u0430 \u044d\u0442\u043e\u0442 \u0440\u0430\u0437 \u0441\u0440\u0430\u0431\u043e\u0442\u0430\u043b\u0430 \u0445\u043e\u0440\u043e\u0448\u043e, \u043a \u043c\u043e\u0435\u043c\u0443 \u0434\u0440 \u043f\u0440\u0438\u0448\u043b\u0438 \u0441\u0440\u0430\u0437\u0443 \u0434\u0432\u0435 \u043f\u043e\u0441\u044b\u043b\u043a\u0438 :)',\n",
        "       '\u041f\u043e\u0447\u0442\u0430 \u0420\u043e\u0441\u0441\u0438\u0438 \u043e\u043f\u044f\u0442\u044c \u043c\u043e\u043b\u043e\u0434\u0435\u0446 - \u0434\u043e\u0441\u0442\u0430\u0432\u0438\u043b\u0430 \u043c\u043d\u0435 \u043a\u043e\u043d\u0432\u0435\u0440\u0442\u0438\u043a \u0438\u0437 \u041a\u0435\u043c\u0435\u0440\u043e\u0432\u043e \u0437\u0430 \u043d\u0435\u0434\u0435\u043b\u044e :) \u0410 \u0432 \u043a\u043e\u043d\u0432\u0435\u0440\u0442\u0438\u043a\u0435 - \u043e\u0447\u0435\u0440\u0435\u0434\u043d\u0430\u044f \u0448\u0442\u0443\u0447\u043a\u0430 :) pic.twitter.com/RSEljQKJTx',\n",
        "       '\u041f\u043e\u0447\u0442\u0430 \u0420\u043e\u0441\u0441\u0438\u0438, \u0442\u044b \u043c\u043e\u043b\u043e\u0434\u0435\u0446. \u0411\u043e\u043b\u044c\u0448\u0435 \u043d\u0435 \u043d\u0430\u0434\u043e \u0440\u0443\u0433\u0430\u0442\u044c\u0441\u044f \u0441 \u043c\u0438\u043b\u044b\u043c\u0438 \u0434\u0430\u043c\u0430\u043c\u0438 \u0437\u0430 \u0441\u0442\u043e\u0439\u043a\u043e\u0439. pic.twitter.com/1pfL6to5tg',\n",
        "       '\u041c\u043e\u0439 \u043d\u043e\u0432\u044b\u0439 \u0440\u0430\u0434\u0438\u043e \u043c\u0438\u043a\u0440\u043e\u0444\u043e\u043d. \u041f\u0440\u0438\u0448\u0435\u043b \u0441 #ebay \u043c\u0435\u043d\u044c\u0448\u0435, \u0447\u0435\u043c \u0437\u0430 3 \u043d\u0435\u0434\u0435\u043b\u0438. \u041f\u043e\u0447\u0442\u0430 \u0420\u043e\u0441\u0441\u0438\u0438 \u2014 \u043c\u043e\u043b\u043e\u0434\u0435\u0446! \ud83d\ude03 http://instagram.com/p/gXaE8Bwtx5/',\n",
        "       '\u041f\u043e\u0447\u0442\u0430 \u0420\u043e\u0441\u0441\u0438\u0438, \u0442\u044b \u043c\u0435\u043d\u044f \u0443\u0434\u0438\u0432\u043b\u044f\u0435\u0448\u044c: \u043f\u043e\u0441\u044b\u043b\u043a\u0430 \u0438\u0437 \u0428\u0442\u0430\u0442\u043e\u0432 \u043f\u0440\u0438\u0448\u043b\u0430 \u0437\u0430 21 \u0434\u0435\u043d\u044c. \u041c\u043e\u043b\u043e\u0434\u0435\u0446!',\n",
        "       '\u0412 \u043a\u043e\u0438-\u0442\u043e \u0432\u0435\u043a\u0438 #\u043f\u043e\u0447\u0442\u0430\u0440\u043e\u0441\u0441\u0438\u0438 \u043c\u043e\u043b\u043e\u0434\u0435\u0446, \u0430 \u043a\u0438\u0442\u0430\u0439\u0441\u043a\u0438\u0435 \u043c\u0430\u0433\u0430\u0437\u0438\u043d\u044b - \u043a\u0430\u043a\u0430\u0445\u0438, \u043e\u0448\u0438\u0431\u0448\u0438\u0435\u0441\u044f \u0432 \u0430\u0434\u0440\u0435\u0441\u0435))) @ \u041f\u043e\u0447\u0442\u0430\u2026 http://instagram.com/p/ci01WcALMT/',\n",
        "       '500 \u0442\u043e\u043d\u043d \u0432\u0438\u0434\u0438\u043c\u043e \u0431\u044b\u043b\u043e \u0442\u0440\u0443\u0434\u043d\u043e \u0440\u0430\u0437\u0431\u0438\u0440\u0430\u0442\u044c!! \u0440\u0435\u0448\u0438\u043b\u0438 \u0441\u0436\u0435\u0447 \u043e\u0445 \u0438 \u043c\u043e\u043b\u043e\u0434\u0435\u0446 #\u043f\u043e\u0447\u0442\u0430\u0440\u043e\u0441\u0441\u0438\u0438 \u0432\u0438\u0434\u0438\u043c\u043e \u0442\u0435\u043f\u0435\u0440\u044c \u0442\u043e\u0447\u043d\u043e \u0431\u043e\u043b\u0442 \u043c\u043e\u0436\u043d\u043e \u043a\u043b\u0430\u0441\u0442\u044c \u043d\u0430 \u043f\u043e\u0441\u044b\u043b\u043e\u0447\u043a\u0438 \u0438 \u0434\u0435\u043d\u044c\u0436\u0430\u0442\u0430(',\n",
        "       '\u0441\u043f\u0430\u0441\u0438\u0431\u043e #\u041f\u043e\u0447\u0442\u0430\u0420\u043e\u0441\u0441\u0438\u0438 ,\u0447\u0442\u043e \u043f\u043e\u0441\u044b\u043b\u043a\u0430 \u0434\u043e\u0448\u043b\u0430 \u0434\u043e \u0411\u0435\u043b\u043e\u0440\u0443\u0441\u0441\u0438\u0438! \u043f\u043e\u043c\u044f\u0442\u0430\u044f,\u043d\u043e \u0445\u043e\u0442\u044c \u0434\u043e\u0448\u043b\u0430!',\n",
        "       '\u0441\u0435\u0433\u043e\u0434\u043d\u044f \u044f \u0431\u044b\u043b\u0430 \u043f\u0440\u0438\u044f\u0442\u043d\u043e \u0443\u0434\u0438\u0432\u043b\u0435\u043d\u0430 \u043c\u043e\u0435 \u043f\u0438\u0441\u044c\u043c\u043e \u0431\u044b\u043b\u043e \u0434\u043e\u0441\u0442\u0430\u0432\u043b\u0435\u043d\u043e \u043b\u044e\u0431\u0438\u043c\u043e\u043c\u0443 \u0437\u0430 7 \u0434\u043d\u0435\u0439\u2764\u263a\ud83d\udc4c\ud83d\udc8c, \u0441\u043f\u0430\u0441\u0438\u0431\u043e \u0432\u0430\u043c #\u043f\u043e\u0447\u0442\u0430\u0440\u043e\u0441\u0441\u0438\u0438 \ud83d\udc4d',\n",
        "       '#\u043f\u043e\u0447\u0442\u0430\u0440\u043e\u0441\u0441\u0438\u0438 \u043d\u0435 \u0442\u0430\u043a \u043f\u043b\u043e\u0445\u0430. \u0421\u0435\u0433\u043e\u0434\u043d\u044f \u043f\u043e\u043b\u0443\u0447\u0438\u043b\u0430 \u043f\u043e\u0441\u044b\u043b\u043a\u0443. \u041e\u0447\u0435\u0440\u0435\u0434\u0435\u0439 \u043d\u0435\u0442, \u0442\u043e\u0432\u0430\u0440 \u0446\u0435\u043b, \u0434\u0435\u0432\u0443\u0448\u043a\u0438 \u043f\u0440\u0438\u0432\u0435\u0442\u043b\u0438\u0432\u044b. \u0421\u043f\u0430\u0441\u0438\u0431\u043e!) pic.twitter.com/btUUTHWmJT',\n",
        "       '8 \u0434\u043d\u0435\u0439 \u0432\u0441\u0435\u0433\u043e, \u044d\u0442\u043e \u043f\u0440\u043e\u0441\u0442\u043e \u043f\u0440\u0435\u043a\u0440\u0430\u0441\u043d\u043e! \u041f\u043e\u0447\u0442\u0430 \u0420\u043e\u0441\u0441\u0438\u0438 \u0421\u041f\u0410\u0421\u0418\u0411\u041e, \u043c\u043e\u0436\u0435\u0448\u044c \u0432\u0435\u0434\u044c! \u0412 \u0442\u043e\u043c \u0436\u0435 \u0434\u0443\u0445\u0435! pic.twitter.com/NlbP3zkAfg',\n",
        "       '\u043f\u0435\u0440\u0432\u044b\u0439 \u043f\u0440\u0435\u0437\u0435\u043d\u0442 \u043a \u0434\u0440 \u043f\u0440\u0438\u0431\u044b\u043b!!! \u043f\u043e\u0447\u0442\u0430 \u0420\u043e\u0441\u0441\u0438\u0438 \u043f\u0440\u0435\u0432\u0437\u043e\u0448\u043b\u0430 \u0441\u0430\u043c\u0430 \u0441\u0435\u0431\u044f. \u0441\u043f\u0430\u0441\u0438\u0431\u043e@anna_jarvi pic.twitter.com/vuD74xtvXh',\n",
        "       '\u041c\u043e\u0439 \u0430\u043a\u043a\u0443\u043c\u0443\u043b\u044f\u0442\u043e\u0440 \u043f\u0440\u0438\u0431\u044b\u043b \u0438\u0437 \u041a\u0438\u0442\u0430\u044f \u0437\u0430 11 \u0434\u043d\u0435\u0439! \u042f \u0432\u0448\u043e\u043a\u0435, \u0441\u043f\u0430\u0441\u0438\u0431\u043e \u041f\u043e\u0447\u0442\u0430 \u0420\u043e\u0441\u0441\u0438\u0438! pic.twitter.com/v1F67Tcr',\n",
        "       '\u041f\u043e\u043b\u0443\u0447\u0438\u043b\u0430 \u0441\u0432\u043e\u044e \u043f\u0435\u0440\u0432\u0443\u044e \u043f\u043e\u0441\u044b\u043b\u043a\u0443 \u043f\u043e \u043f\u043e\u0447\u0442\u0435. \u041d\u0443 \u043a\u0441\u0442\u0430\u0442\u0438 \u0434\u043e\u0432\u043e\u043b\u044c\u043d\u043e \u0431\u044b\u0441\u0442\u0440\u043e \u043e\u043d\u0430 \u043f\u0440\u043e\u0448\u043b\u0430 \u043f\u043e \u0442\u0435\u0440\u0440\u0438\u0442\u043e\u0440\u0438\u0438 \u0420\u043e\u0441\u0441\u0438\u0438 \u0438 \u0431\u044b\u043b\u0430 \u043c\u043d\u0435 \u0432\u0440\u0443\u0447\u0435\u043d\u0430. #\u041f\u043e\u0447\u0442\u0430\u0420\u043e\u0441\u0441\u0438\u0438',\n",
        "       '\u041d\u0435\u0441\u043c\u043e\u0442\u0440\u044f \u043d\u0430 \u0431\u0435\u0441\u043f\u043b\u0430\u0442\u043d\u0443\u044e \u0434\u043e\u0441\u0442\u0430\u0432\u043a\u0443, \u0431\u044b\u0441\u0442\u0440\u043e \u043f\u0440\u0438\u043b\u0435\u0442\u0435\u043b \u0434\u0435\u0448\u0435\u0432\u044b\u0439 \u0448\u0435\u0445\u043e\u043b \u0434\u043b\u044f \u0433\u0430\u043b\u0430\u043a\u0441\u0438 \u04414 #ebay (@ \u041f\u043e\u0447\u0442\u0430 \u0420\u043e\u0441\u0441\u0438\u0438 164509) http://4sq.com/1cYE9zs',\n",
        "       '\u041f\u043e\u0447\u0442\u0430 \u0420\u043e\u0441\u0441\u0438\u0438 \u043d\u0430\u0447\u0430\u043b\u0430 \u043d\u0430 \u0443\u0434\u0438\u0432\u043b\u0435\u043d\u0438\u0435 \u0431\u044b\u0441\u0442\u0440\u043e \u0440\u0430\u0431\u043e\u0442\u0430\u0442\u044c! \u0414\u0440\u0443\u0433 \u0437\u0430 \u0434\u0440\u0443\u0433\u043e\u043c \u043f\u0440\u0438\u0448\u043b\u0438 \u043f\u043e\u0441\u044b\u043b\u043a\u0438 \u0438\u0437 \u041a\u0430\u043b\u0438\u0444\u043e\u0440\u043d\u0438\u0438 \u0438 \u0438\u0437\u2026 http://instagram.com/p/bqhce3PYaZ/',\n",
        "       '\u0423\u0442\u0440\u043e \u043f\u043e\u043d\u0435\u0434\u0435\u043b\u044c\u043d\u0438\u043a\u0430 \u0443 \u043c\u0435\u043d\u044f \u043d\u0430\u0447\u0430\u043b\u043e\u0441\u044c \u0441 \u0442\u043e\u0433\u043e \u0447\u0442\u043e \u043c\u043d\u0435 \u043f\u0440\u0438\u0448\u043b\u043e \u043f\u0438\u0441\u044c\u043c\u043e \u043e\u0442 .....:))) \u0441\u043f\u0430\u0441\u0438\u0431\u043e)) \u043f\u043e\u0447\u0442\u0430 \u0420\u043e\u0441\u0441\u0438\u0438 \u0431\u044b\u0441\u0442\u0440\u043e \u0441\u0440\u0430\u0431\u043e\u0442\u0430\u043b\u0430) pic.twitter.com/wLt6X7qy2e',\n",
        "       '\u0447\u0443\u0434\u0435\u0441\u0430, \u043d\u0438\u043a\u043e\u0433\u043e \u043d\u0435\u0442 \u0438 \u0432\u0441\u0435 \u0431\u044b\u0441\u0442\u0440\u043e (@ \u041f\u043e\u0447\u0442\u0430 \u0420\u043e\u0441\u0441\u0438\u0438 (195257)) http://4sq.com/TM2htH',\n",
        "       '\u041f\u043e\u0447\u0442\u0430 \u0420\u043e\u0441\u0441\u0438\u0438 \u0443\u0434\u0438\u0432\u0438\u0442\u0435\u043b\u044c\u043d\u043e \u0431\u044b\u0441\u0442\u0440\u043e \u0440\u0430\u0431\u043e\u0442\u0430\u0435\u0442! \u041d\u0435\u0443\u0436\u0435\u043b\u0438 \u0443\u0441\u043f\u0435\u044e\u0442 \u0434\u043e\u0441\u0442\u0430\u0432\u0438\u0442\u044c \u0434\u043e \u0432\u0442\u043e\u0440\u043d\u0438\u043a\u0430? @ \u041e\u0444\u0438\u0441 \u21161 http://instagr.am/p/N328EMB0HZ/',\n",
        "       '\u041f\u043e\u0447\u0442\u0430 \u0420\u043e\u0441\u0441\u0438\u0438 \u0438\u0441\u043f\u0440\u0430\u0432\u0438\u043b\u0430\u0441\u044c?? \u041f\u043e\u043b\u0443\u0447\u0438\u043b (\u0438 \u0431\u044b\u0441\u0442\u0440\u043e!) \u043d\u043e\u0432\u043e\u0433\u043e \u041a\u0440\u0438\u0441\u0430 \u0420\u0438 - \u043f\u044f\u0442\u044c \u043d\u043e\u0432\u044b\u0445 \u0434\u0438\u0441\u043a\u043e\u0432, \u043f\u043e\u0434\u0430\u0440\u043e\u0447\u043d\u043e\u0435 \u0438\u0437\u0434\u0430\u043d\u0438\u0435, \u0438 \u0432\u0441\u0435\u0433\u043e \u00a311! :) http://yfrog.com/kj9dzihj',\n",
        "       '\u041e\u0434\u0438\u043d \u043f\u0440\u0438\u0448\u0435\u043b. \u041f\u043e\u0447\u0442\u0430 \u0420\u043e\u0441\u0441\u0438\u0438 \u0443\u0434\u0438\u0432\u0438\u043b\u0430, 18 \u0434\u043d\u0435\u0439 \u0432\u0441\u0435\u0433\u043e. \u0418\u0442\u0430 \u0441\u0443\u043f\u0438\u0440\ud83d\ude0a\ud83d\ude0a\ud83d\ude0d\ud83d\ude0d\ud83d\ude0d pic.twitter.com/5uqBs9bMoH',\n",
        "       '\u041f\u043e\u0447\u0442\u0430 \u0420\u043e\u0441\u0441\u0438\u0438 \u0443\u0434\u0438\u0432\u0438\u043b\u0430. \u041f\u043e\u0441\u044b\u043b\u043e\u0447\u043a\u0438 \u043b\u0435\u0442\u0435\u043b\u0438 \u0432\u0441\u0435\u0433\u043e 19 \u0434\u043d\u0435\u0439. #\u0448\u043e\u043a',\n",
        "       '\u043f\u043e\u0441\u044b\u043b\u043a\u0430 \u043f\u0440\u0438\u0448\u043b\u0430 \u0437\u0430 6 \u0434\u043d\u0435\u0439. \u043f\u043e\u0447\u0442\u0430 \u0440\u043e\u0441\u0441\u0438\u0438 \u043c\u0435\u043d\u044f \u043f\u0440\u0438\u044f\u0442\u043d\u043e \u0443\u0434\u0438\u0432\u0438\u043b\u0430',\n",
        "       '\u041f\u043e\u0447\u0442\u0430 \u0440\u043e\u0441\u0441\u0438\u0438 \u0442\u044b \u043c\u0435\u043d\u044f \u0443\u0434\u0438\u0432\u0438\u043b\u0430 \u0437\u0430 3 \u0434\u043d\u044f \u0438\u0437 \u0438\u0432\u0430\u043d\u043e\u0432\u0430 \u043f\u0440\u0438\u0448\u043b\u0430 \u043f\u043e\u0441\u044b\u043b\u043a\u0430 \u0441 \u043d\u0438\u0448\u0442\u044f\u043a\u0430\u043c\u0438 \u043e\u0442 \u0440\u0435\u0431\u044f\u0442 pic.twitter.com/DwwJrT5Axi',\n",
        "       '\u041f\u043e\u0447\u0442\u0430 \u0420\u043e\u0441\u0441\u0438\u0438 \u043f\u0440\u0438\u044f\u0442\u043d\u043e \u0443\u0434\u0438\u0432\u0438\u043b\u0430, \u0440\u043e\u0432\u043d\u043e \u0437\u0430 18 \u0434\u043d\u0435\u0439 \u0434\u043e\u0441\u0442\u0430\u0432\u0438\u043b\u0438 \u043f\u0430\u043b\u044c\u0442\u043e \u0438\u0437 \u041a\u0438\u0442\u0430\u044f. \u041d\u0435\u043c\u043d\u043e\u0433\u043e \u0432 \u0448\u043e\u043a\u0435, \u0442\u0430\u043a \u043a\u0430\u043a \u043e\u0431\u0435\u0449\u0430\u043b\u0438 \u043d\u0435 \u0440\u0430\u043d\u044c\u0448\u0435 20\u0445 \u0447\u0438\u0441\u0435\u043b',\n",
        "       '\u041d\u0430\u043a\u043e\u043d\u0435\u0446-\u0442\u043e^^ \u041f\u043e\u0447\u0442\u0430 \u0420\u043e\u0441\u0441\u0438\u0438 \u0434\u0430\u0436\u0435 \u0443\u0434\u0438\u0432\u0438\u043b\u0430 \u0441\u0432\u043e\u0435\u0439 \u0441\u043a\u043e\u0440\u043e\u0441\u0442\u044c\u044e :D pic.twitter.com/AIJvkQKyX8',\n",
        "       '\u041f\u043e\u0447\u0442\u0430 \u043f\u0440\u044f\u043c \u0443\u0434\u0438\u0432\u0438\u043b\u0430, \u0437\u0430\u0431\u0440\u0430\u043b \u043f\u043e\u0441\u044b\u043b\u043a\u0443 \u0437\u0430 15 \u043c\u0438\u043d\u0443\u0442. \u041f\u0440\u0430\u0432\u0434\u0430 \u043e\u043d\u0430 \u0448\u043b\u0430 \u043f\u043e \u0420\u043e\u0441\u0441\u0438\u0438 2 \u043c\u0435\u0441\u044f\u0446\u0430 :( (@ 3 \u041e\u0442\u0434\u0435\u043b\u0435\u043d\u0438\u0435 \u0421\u0432\u044f\u0437\u0438) http://4sq.com/184T38i',\n",
        "       '\u041d\u043e\u0432\u043e\u0435 \u0447\u0443\u0434\u043e \u0441\u0432\u0435\u0442\u0430! RT @oasinic: \u0432 \u044d\u0442\u043e\u0442 \u0440\u0430\u0437 \u043f\u043e\u0447\u0442\u0430 \u0440\u043e\u0441\u0441\u0438\u0438 \u043c\u0435\u043d\u044f \u0443\u0434\u0438\u0432\u0438\u043b\u0430, \u043f\u043e\u0441\u044b\u043b\u043a\u0430 \u0434\u043e\u0448\u043b\u0430 \u0437\u0430 24 \u0434\u043d\u044f \u0438 \u043f\u043e\u043b\u0443\u0447\u0438\u043b \u044f \u0435\u0435 \u0437\u0430 3 \u043c\u0438\u043d\u0443\u0442\u044b, \u0447\u0443\u0434\u043e!',\n",
        "       '\u0410 \u0435\u0449\u0435 \u043f\u0440\u0438\u044f\u0442\u043d\u043e \u0443\u0434\u0438\u0432\u0438\u043b\u0430 \u041f\u043e\u0447\u0442\u0430 \u0420\u043e\u0441\u0441\u0438\u0438. \u0421\u0443\u0434\u044f \u043f\u043e \u0441\u0440\u043e\u043a\u0443 \u0434\u043e\u0441\u0442\u0430\u0432\u043a\u0438, \u0436\u0434\u0430\u043b\u0430 \u0444\u0443\u0442\u0431\u043e\u043b\u043a\u0443 \u043a \u043e\u043a\u0442\u044f\u0431\u0440\u044e. \u0410 \u043e\u043d\u0430 \u043f\u0440\u0438\u0448\u043b\u0430\u2026 http://instagram.com/p/eeqT3DISoa/',\n",
        "       '\u041f\u043e\u0447\u0442\u0430 \u0420\u043e\u0441\u0441\u0438\u0438 \u0443\u0434\u0438\u0432\u0438\u043b\u0430 - \u0434\u043e\u0441\u0442\u0430\u0432\u0438\u043b\u0430 \u043f\u043e\u0441\u044b\u043b\u043a\u0443 \u0438\u0437 \u0421\u0428\u0410 \u0430\u0432\u0438\u0430\u043f\u043e\u0447\u0442\u043e\u0439 \u043f\u0435\u0440\u0432\u043e\u0433\u043e \u043a\u043b\u0430\u0441\u0441\u0430 \u0432 \u0443\u043a\u0430\u0437\u0430\u043d\u043d\u044b\u0435 \u0438\u0431\u0435\u0435\u043c \u0441\u0440\u043e\u043a\u0438! \u042f\u2026 http://instagram.com/p/dlUUqnSTyB/',\n",
        "       '\u041a\u0430\u0440\u0442\u043e\u0447\u043a\u0430 \u042f\u043d\u0434\u0435\u043a\u0441.\u0414\u0435\u043d\u044c\u0433\u0438 \u0434\u043e\u0448\u043b\u0430 \u0437\u0430 \u043d\u0435\u0434\u0435\u043b\u044e! \u041f\u043e\u0447\u0442\u0430 \u0420\u043e\u0441\u0441\u0438\u0438 \u043f\u0440\u0438\u044f\u0442\u043d\u043e \u0443\u0434\u0438\u0432\u0438\u043b\u0430. pic.twitter.com/7NUkJytTQy',\n",
        "       '\u043e_\u041e \u041f\u043e\u0447\u0442\u0430 \u0420\u043e\u0441\u0441\u0438\u0438 \u0443\u0434\u0438\u0432\u0438\u043b\u0430. \u041e\u0442\u043f\u0440\u0430\u0432\u0438\u043b\u0430 \u043c\u0430\u043c\u0435 \u043e\u0442\u043a\u0440\u044b\u0442\u043a\u0443 27 \u0444\u0435\u0432\u0440\u0430\u043b\u044f \u0438\u0437 \u041f\u0438\u0442\u0435\u0440\u0430 \u0432 \u0418\u0436\u0435\u0432\u0441\u043a. \u0421\u0435\u0433\u043e\u0434\u043d\u044f \u043e\u043d\u0430 \u0435\u0451 \u0443\u0436\u0435 \u043f\u043e\u043b\u0443\u0447\u0438\u043b\u0430. \u0412\u0422\u0424?!)'], dtype=object)"
       ]
      }
     ],
     "prompt_number": 141
    },
    {
     "cell_type": "code",
     "collapsed": false,
     "input": [],
     "language": "python",
     "metadata": {},
     "outputs": []
    }
   ],
   "metadata": {}
  }
 ]
}