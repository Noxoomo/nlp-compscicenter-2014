{
 "metadata": {
  "name": "",
  "signature": "sha256:8968d7ecb5248dcce08b4132207bc2875d257d3d71b02ccb8ad520e9493cd40f"
 },
 "nbformat": 3,
 "nbformat_minor": 0,
 "worksheets": [
  {
   "cells": [
    {
     "cell_type": "code",
     "collapsed": false,
     "input": [
      "import sys\n",
      "print(sys.version)\n",
      "import pandas as pd\n",
      "import numpy as np\n",
      "import json\n",
      "import re"
     ],
     "language": "python",
     "metadata": {},
     "outputs": [
      {
       "output_type": "stream",
       "stream": "stdout",
       "text": [
        "3.3.5 |Anaconda 1.9.2 (x86_64)| (default, Mar 10 2014, 11:22:25) \n",
        "[GCC 4.0.1 (Apple Inc. build 5493)]\n"
       ]
      }
     ],
     "prompt_number": 69
    },
    {
     "cell_type": "code",
     "collapsed": false,
     "input": [
      "def decode_tweet(tweet): \n",
      "    tweet.encode().decode('unicode-escape')"
     ],
     "language": "python",
     "metadata": {},
     "outputs": [],
     "prompt_number": 1
    },
    {
     "cell_type": "code",
     "collapsed": false,
     "input": [],
     "language": "python",
     "metadata": {},
     "outputs": [],
     "prompt_number": 54
    },
    {
     "cell_type": "code",
     "collapsed": false,
     "input": [
      "\":)\" in tweet[\"text\"]"
     ],
     "language": "python",
     "metadata": {},
     "outputs": [
      {
       "metadata": {},
       "output_type": "pyout",
       "prompt_number": 55,
       "text": [
        "False"
       ]
      }
     ],
     "prompt_number": 55
    },
    {
     "cell_type": "code",
     "collapsed": false,
     "input": [
      "file_name = \"all_tweets\"\n",
      "tweets  = open(file_name)\n",
      "happy = open(\"happy_tweets\",\"w\")\n",
      "sad = open(\"sad_tweets\",\"w\")\n",
      "target = open(\"target\",\"w\")\n",
      "for line in tweets:\n",
      "    tweet = json.loads(line)\n",
      "    tweet_text = tweet['text']\n",
      "    if (len(tweet_text) < 30):\n",
      "        continue\n",
      "    if \"\u043f\u043e\u0447\u0442\u0430 \u0440\u043e\u0441\u0441\u0438\u0438\" in tweet_text.lower():\n",
      "        target.write(tweet_text.replace(\"\\n\",\" \") + \"\\n\")\n",
      "    elif (\":)\" in tweet_text) or (\";)\" in tweet_text) or ('=)' in tweet_text) or (')))' in tweet_text):\n",
      "        happy.write(tweet['text'].replace(\"\\n\",\" \") + \"\\n\")\n",
      "    elif (\":(\" in tweet_text) or (\";(\" in tweet_text) or ('=(' in tweet_text) or ('(((' in tweet_text): \n",
      "        sad.write(tweet_text.replace(\"\\n\",\" \") + \"\\n\")\n",
      "    \n",
      "        \n",
      "happy.flush()\n",
      "sad.flush()\n",
      "target.flush()\n",
      "happy.close()\n",
      "sad.close()\n",
      "target.close()"
     ],
     "language": "python",
     "metadata": {},
     "outputs": [],
     "prompt_number": 163
    },
    {
     "cell_type": "code",
     "collapsed": false,
     "input": [],
     "language": "python",
     "metadata": {},
     "outputs": [],
     "prompt_number": 58
    },
    {
     "cell_type": "code",
     "collapsed": false,
     "input": [
      "df = pd.read_csv(\"test-russian-post\",names=[\"class\",\"tweet\"],sep=\"\\t\")"
     ],
     "language": "python",
     "metadata": {},
     "outputs": [],
     "prompt_number": 155
    },
    {
     "cell_type": "code",
     "collapsed": false,
     "input": [
      "df[df[\"tweet\"].apply(lambda s: len(str(s))) < 30]"
     ],
     "language": "python",
     "metadata": {},
     "outputs": [
      {
       "html": [
        "<div style=\"max-height:1000px;max-width:1500px;overflow:auto;\">\n",
        "<table border=\"1\" class=\"dataframe\">\n",
        "  <thead>\n",
        "    <tr style=\"text-align: right;\">\n",
        "      <th></th>\n",
        "      <th>class</th>\n",
        "      <th>tweet</th>\n",
        "    </tr>\n",
        "  </thead>\n",
        "  <tbody>\n",
        "    <tr>\n",
        "      <th>149</th>\n",
        "      <td>  0</td>\n",
        "      <td> \u043d\u0443 \u0438 \u0442\u043e\u0440\u043c\u043e\u0437\u043d\u0443\u0442\u0430\u044f #\u043f\u043e\u0447\u0442\u0430\u0440\u043e\u0441\u0441\u0438\u0438</td>\n",
        "    </tr>\n",
        "    <tr>\n",
        "      <th>150</th>\n",
        "      <td>  0</td>\n",
        "      <td> \u041f\u043e\u0447\u0442\u0430 \u0420\u043e\u0441\u0441\u0438\u0438,\u043d\u0435\u043d\u0430\u0432\u0438\u0436\u0443 \u0442\u0435\u0431\u044f!!!</td>\n",
        "    </tr>\n",
        "    <tr>\n",
        "      <th>221</th>\n",
        "      <td>NaN</td>\n",
        "      <td>                           NaN</td>\n",
        "    </tr>\n",
        "    <tr>\n",
        "      <th>222</th>\n",
        "      <td>NaN</td>\n",
        "      <td>                           NaN</td>\n",
        "    </tr>\n",
        "    <tr>\n",
        "      <th>223</th>\n",
        "      <td>NaN</td>\n",
        "      <td>                           NaN</td>\n",
        "    </tr>\n",
        "    <tr>\n",
        "      <th>224</th>\n",
        "      <td>NaN</td>\n",
        "      <td>                           NaN</td>\n",
        "    </tr>\n",
        "    <tr>\n",
        "      <th>225</th>\n",
        "      <td>NaN</td>\n",
        "      <td>                           NaN</td>\n",
        "    </tr>\n",
        "    <tr>\n",
        "      <th>226</th>\n",
        "      <td>NaN</td>\n",
        "      <td>                           NaN</td>\n",
        "    </tr>\n",
        "    <tr>\n",
        "      <th>227</th>\n",
        "      <td>NaN</td>\n",
        "      <td>                           NaN</td>\n",
        "    </tr>\n",
        "    <tr>\n",
        "      <th>228</th>\n",
        "      <td>NaN</td>\n",
        "      <td>                           NaN</td>\n",
        "    </tr>\n",
        "    <tr>\n",
        "      <th>229</th>\n",
        "      <td>NaN</td>\n",
        "      <td>                           NaN</td>\n",
        "    </tr>\n",
        "    <tr>\n",
        "      <th>230</th>\n",
        "      <td>NaN</td>\n",
        "      <td>                           NaN</td>\n",
        "    </tr>\n",
        "    <tr>\n",
        "      <th>231</th>\n",
        "      <td>NaN</td>\n",
        "      <td>                           NaN</td>\n",
        "    </tr>\n",
        "    <tr>\n",
        "      <th>232</th>\n",
        "      <td>NaN</td>\n",
        "      <td>                           NaN</td>\n",
        "    </tr>\n",
        "    <tr>\n",
        "      <th>233</th>\n",
        "      <td>NaN</td>\n",
        "      <td>                           NaN</td>\n",
        "    </tr>\n",
        "    <tr>\n",
        "      <th>234</th>\n",
        "      <td>NaN</td>\n",
        "      <td>                           NaN</td>\n",
        "    </tr>\n",
        "  </tbody>\n",
        "</table>\n",
        "<p>16 rows \u00d7 2 columns</p>\n",
        "</div>"
       ],
       "metadata": {},
       "output_type": "pyout",
       "prompt_number": 154,
       "text": [
        "     class                          tweet\n",
        "149      0  \u043d\u0443 \u0438 \u0442\u043e\u0440\u043c\u043e\u0437\u043d\u0443\u0442\u0430\u044f #\u043f\u043e\u0447\u0442\u0430\u0440\u043e\u0441\u0441\u0438\u0438\n",
        "150      0  \u041f\u043e\u0447\u0442\u0430 \u0420\u043e\u0441\u0441\u0438\u0438,\u043d\u0435\u043d\u0430\u0432\u0438\u0436\u0443 \u0442\u0435\u0431\u044f!!!\n",
        "221    NaN                            NaN\n",
        "222    NaN                            NaN\n",
        "223    NaN                            NaN\n",
        "224    NaN                            NaN\n",
        "225    NaN                            NaN\n",
        "226    NaN                            NaN\n",
        "227    NaN                            NaN\n",
        "228    NaN                            NaN\n",
        "229    NaN                            NaN\n",
        "230    NaN                            NaN\n",
        "231    NaN                            NaN\n",
        "232    NaN                            NaN\n",
        "233    NaN                            NaN\n",
        "234    NaN                            NaN\n",
        "\n",
        "[16 rows x 2 columns]"
       ]
      }
     ],
     "prompt_number": 154
    },
    {
     "cell_type": "code",
     "collapsed": false,
     "input": [
      "sad_post = df[df[\"class\"] == 0][\"tweet\"]"
     ],
     "language": "python",
     "metadata": {},
     "outputs": [],
     "prompt_number": 157
    },
    {
     "cell_type": "code",
     "collapsed": false,
     "input": [
      "happy_post = df[df[\"class\"] == 1][\"tweet\"]"
     ],
     "language": "python",
     "metadata": {},
     "outputs": [],
     "prompt_number": 158
    },
    {
     "cell_type": "code",
     "collapsed": false,
     "input": [
      "sad_post.shape"
     ],
     "language": "python",
     "metadata": {},
     "outputs": [
      {
       "metadata": {},
       "output_type": "pyout",
       "prompt_number": 159,
       "text": [
        "(173,)"
       ]
      }
     ],
     "prompt_number": 159
    },
    {
     "cell_type": "code",
     "collapsed": false,
     "input": [
      "happy_post.shape"
     ],
     "language": "python",
     "metadata": {},
     "outputs": [
      {
       "metadata": {},
       "output_type": "pyout",
       "prompt_number": 160,
       "text": [
        "(48,)"
       ]
      }
     ],
     "prompt_number": 160
    },
    {
     "cell_type": "code",
     "collapsed": false,
     "input": [
      "out = open(\"sad_posts\",\"w\")\n",
      "for tweet in  sad_post:\n",
      "    out.write(tweet + \"\\n\")\n",
      "out.flush()\n",
      "out.close()\n",
      "out = open(\"happy_posts\",\"w\")\n",
      "for tweet in happy_post:\n",
      "    out.write(tweet+\"\\n\")\n",
      "out.flush()\n",
      "out.close()"
     ],
     "language": "python",
     "metadata": {},
     "outputs": [],
     "prompt_number": 161
    },
    {
     "cell_type": "code",
     "collapsed": false,
     "input": [
      "np.savetxt(\"happy_post\",happy_post.values,delimiter='\\n')"
     ],
     "language": "python",
     "metadata": {},
     "outputs": [
      {
       "ename": "TypeError",
       "evalue": "a float is required",
       "output_type": "pyerr",
       "traceback": [
        "\u001b[0;31m---------------------------------------------------------------------------\u001b[0m\n\u001b[0;31mTypeError\u001b[0m                                 Traceback (most recent call last)",
        "\u001b[0;32m<ipython-input-142-ba26b88c35c8>\u001b[0m in \u001b[0;36m<module>\u001b[0;34m()\u001b[0m\n\u001b[0;32m----> 1\u001b[0;31m \u001b[0mnp\u001b[0m\u001b[0;34m.\u001b[0m\u001b[0msavetxt\u001b[0m\u001b[0;34m(\u001b[0m\u001b[0;34m\"happy_post\"\u001b[0m\u001b[0;34m,\u001b[0m\u001b[0mhappy_post\u001b[0m\u001b[0;34m.\u001b[0m\u001b[0mvalues\u001b[0m\u001b[0;34m,\u001b[0m\u001b[0mdelimiter\u001b[0m\u001b[0;34m=\u001b[0m\u001b[0;34m'\\n'\u001b[0m\u001b[0;34m)\u001b[0m\u001b[0;34m\u001b[0m\u001b[0m\n\u001b[0m",
        "\u001b[0;32m/Users/Vasily/anaconda/envs/py3k/lib/python3.3/site-packages/numpy/lib/npyio.py\u001b[0m in \u001b[0;36msavetxt\u001b[0;34m(fname, X, fmt, delimiter, newline, header, footer, comments)\u001b[0m\n\u001b[1;32m   1071\u001b[0m         \u001b[0;32melse\u001b[0m\u001b[0;34m:\u001b[0m\u001b[0;34m\u001b[0m\u001b[0m\n\u001b[1;32m   1072\u001b[0m             \u001b[0;32mfor\u001b[0m \u001b[0mrow\u001b[0m \u001b[0;32min\u001b[0m \u001b[0mX\u001b[0m\u001b[0;34m:\u001b[0m\u001b[0;34m\u001b[0m\u001b[0m\n\u001b[0;32m-> 1073\u001b[0;31m                 \u001b[0mfh\u001b[0m\u001b[0;34m.\u001b[0m\u001b[0mwrite\u001b[0m\u001b[0;34m(\u001b[0m\u001b[0masbytes\u001b[0m\u001b[0;34m(\u001b[0m\u001b[0mformat\u001b[0m \u001b[0;34m%\u001b[0m \u001b[0mtuple\u001b[0m\u001b[0;34m(\u001b[0m\u001b[0mrow\u001b[0m\u001b[0;34m)\u001b[0m \u001b[0;34m+\u001b[0m \u001b[0mnewline\u001b[0m\u001b[0;34m)\u001b[0m\u001b[0;34m)\u001b[0m\u001b[0;34m\u001b[0m\u001b[0m\n\u001b[0m\u001b[1;32m   1074\u001b[0m         \u001b[0;32mif\u001b[0m \u001b[0mlen\u001b[0m\u001b[0;34m(\u001b[0m\u001b[0mfooter\u001b[0m\u001b[0;34m)\u001b[0m \u001b[0;34m>\u001b[0m \u001b[0;36m0\u001b[0m\u001b[0;34m:\u001b[0m\u001b[0;34m\u001b[0m\u001b[0m\n\u001b[1;32m   1075\u001b[0m             \u001b[0mfooter\u001b[0m \u001b[0;34m=\u001b[0m \u001b[0mfooter\u001b[0m\u001b[0;34m.\u001b[0m\u001b[0mreplace\u001b[0m\u001b[0;34m(\u001b[0m\u001b[0;34m'\\n'\u001b[0m\u001b[0;34m,\u001b[0m \u001b[0;34m'\\n'\u001b[0m \u001b[0;34m+\u001b[0m \u001b[0mcomments\u001b[0m\u001b[0;34m)\u001b[0m\u001b[0;34m\u001b[0m\u001b[0m\n",
        "\u001b[0;31mTypeError\u001b[0m: a float is required"
       ]
      }
     ],
     "prompt_number": 142
    },
    {
     "cell_type": "code",
     "collapsed": false,
     "input": [
      "good_pmi = pd.read_csv(\"goodPMI\",sep=\"\\t\",names=[\"word\",\"pmi\"])\n",
      "bad_pmi = pd.read_csv(\"badPMI\",sep = \"\\t\",names=[\"word\",\"pmi\"])"
     ],
     "language": "python",
     "metadata": {},
     "outputs": [],
     "prompt_number": 205
    },
    {
     "cell_type": "code",
     "collapsed": false,
     "input": [
      "good_pmi.describe()"
     ],
     "language": "python",
     "metadata": {},
     "outputs": [
      {
       "html": [
        "<div style=\"max-height:1000px;max-width:1500px;overflow:auto;\">\n",
        "<table border=\"1\" class=\"dataframe\">\n",
        "  <thead>\n",
        "    <tr style=\"text-align: right;\">\n",
        "      <th></th>\n",
        "      <th>pmi</th>\n",
        "    </tr>\n",
        "  </thead>\n",
        "  <tbody>\n",
        "    <tr>\n",
        "      <th>count</th>\n",
        "      <td> 3982.000000</td>\n",
        "    </tr>\n",
        "    <tr>\n",
        "      <th>mean</th>\n",
        "      <td>    0.674914</td>\n",
        "    </tr>\n",
        "    <tr>\n",
        "      <th>std</th>\n",
        "      <td>    0.170244</td>\n",
        "    </tr>\n",
        "    <tr>\n",
        "      <th>min</th>\n",
        "      <td>    0.095238</td>\n",
        "    </tr>\n",
        "    <tr>\n",
        "      <th>25%</th>\n",
        "      <td>    0.500000</td>\n",
        "    </tr>\n",
        "    <tr>\n",
        "      <th>50%</th>\n",
        "      <td>    0.666667</td>\n",
        "    </tr>\n",
        "    <tr>\n",
        "      <th>75%</th>\n",
        "      <td>    0.818182</td>\n",
        "    </tr>\n",
        "    <tr>\n",
        "      <th>max</th>\n",
        "      <td>    0.996885</td>\n",
        "    </tr>\n",
        "  </tbody>\n",
        "</table>\n",
        "<p>8 rows \u00d7 1 columns</p>\n",
        "</div>"
       ],
       "metadata": {},
       "output_type": "pyout",
       "prompt_number": 206,
       "text": [
        "               pmi\n",
        "count  3982.000000\n",
        "mean      0.674914\n",
        "std       0.170244\n",
        "min       0.095238\n",
        "25%       0.500000\n",
        "50%       0.666667\n",
        "75%       0.818182\n",
        "max       0.996885\n",
        "\n",
        "[8 rows x 1 columns]"
       ]
      }
     ],
     "prompt_number": 206
    },
    {
     "cell_type": "code",
     "collapsed": false,
     "input": [
      "bad_pmi.describe()"
     ],
     "language": "python",
     "metadata": {},
     "outputs": [
      {
       "html": [
        "<div style=\"max-height:1000px;max-width:1500px;overflow:auto;\">\n",
        "<table border=\"1\" class=\"dataframe\">\n",
        "  <thead>\n",
        "    <tr style=\"text-align: right;\">\n",
        "      <th></th>\n",
        "      <th>pmi</th>\n",
        "    </tr>\n",
        "  </thead>\n",
        "  <tbody>\n",
        "    <tr>\n",
        "      <th>count</th>\n",
        "      <td> 3982.000000</td>\n",
        "    </tr>\n",
        "    <tr>\n",
        "      <th>mean</th>\n",
        "      <td>    0.325086</td>\n",
        "    </tr>\n",
        "    <tr>\n",
        "      <th>std</th>\n",
        "      <td>    0.170244</td>\n",
        "    </tr>\n",
        "    <tr>\n",
        "      <th>min</th>\n",
        "      <td>    0.003115</td>\n",
        "    </tr>\n",
        "    <tr>\n",
        "      <th>25%</th>\n",
        "      <td>    0.181818</td>\n",
        "    </tr>\n",
        "    <tr>\n",
        "      <th>50%</th>\n",
        "      <td>    0.333333</td>\n",
        "    </tr>\n",
        "    <tr>\n",
        "      <th>75%</th>\n",
        "      <td>    0.500000</td>\n",
        "    </tr>\n",
        "    <tr>\n",
        "      <th>max</th>\n",
        "      <td>    0.904762</td>\n",
        "    </tr>\n",
        "  </tbody>\n",
        "</table>\n",
        "<p>8 rows \u00d7 1 columns</p>\n",
        "</div>"
       ],
       "metadata": {},
       "output_type": "pyout",
       "prompt_number": 207,
       "text": [
        "               pmi\n",
        "count  3982.000000\n",
        "mean      0.325086\n",
        "std       0.170244\n",
        "min       0.003115\n",
        "25%       0.181818\n",
        "50%       0.333333\n",
        "75%       0.500000\n",
        "max       0.904762\n",
        "\n",
        "[8 rows x 1 columns]"
       ]
      }
     ],
     "prompt_number": 207
    },
    {
     "cell_type": "code",
     "collapsed": false,
     "input": [
      " good_pmi.sort(columns = \"pmi\",ascending=False).to_csv(\"good_sorted\",index=False)"
     ],
     "language": "python",
     "metadata": {},
     "outputs": [],
     "prompt_number": 215
    },
    {
     "cell_type": "code",
     "collapsed": false,
     "input": [
      "bad_pmi.sort(columns = \"pmi\",ascending=False).to_csv(\"bad_sorted\",index = False)"
     ],
     "language": "python",
     "metadata": {},
     "outputs": [],
     "prompt_number": 216
    },
    {
     "cell_type": "code",
     "collapsed": false,
     "input": [
      "bad_pmi_filtered = pd.read_csv(\"bad_filtered\")"
     ],
     "language": "python",
     "metadata": {},
     "outputs": [],
     "prompt_number": 217
    },
    {
     "cell_type": "code",
     "collapsed": false,
     "input": [
      "bad_pmi_filtered[\"word\"].to_csv(\"bad_classifier\",index = False)"
     ],
     "language": "python",
     "metadata": {},
     "outputs": [],
     "prompt_number": 224
    },
    {
     "cell_type": "code",
     "collapsed": false,
     "input": [
      "good_pmi_filtered = pd.read_csv(\"good_filtered\")\n",
      "good_pmi_filtered[\"word\"].to_csv(\"good_classifier\",index = False)"
     ],
     "language": "python",
     "metadata": {},
     "outputs": [],
     "prompt_number": 225
    },
    {
     "cell_type": "code",
     "collapsed": false,
     "input": [],
     "language": "python",
     "metadata": {},
     "outputs": []
    }
   ],
   "metadata": {}
  }
 ]
}