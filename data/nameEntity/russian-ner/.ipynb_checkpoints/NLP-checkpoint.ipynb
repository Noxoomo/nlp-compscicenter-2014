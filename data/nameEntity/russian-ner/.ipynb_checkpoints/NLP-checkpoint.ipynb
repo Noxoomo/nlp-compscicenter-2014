{
 "metadata": {
  "name": "",
  "signature": "sha256:7274595e9801a52c522f22da7f61b478d5eae16250d2a9c44b5ccf1924270aac"
 },
 "nbformat": 3,
 "nbformat_minor": 0,
 "worksheets": [
  {
   "cells": [
    {
     "cell_type": "code",
     "collapsed": false,
     "input": [
      "import sys\n",
      "print(sys.version)\n",
      "import pandas as pd\n",
      "import math\n",
      "import numpy as np\n",
      "import matplotlib.pyplot as plt\n",
      "import json\n",
      "from datetime import datetime\n",
      "from mpl_toolkits.basemap import Basemap\n",
      "from scipy.spatial.distance import pdist,squareform,cdist\n",
      "import subprocess\n",
      "%matplotlib inline\n",
      "pd.set_option('display.max_columns', 100)\n",
      "pd.set_option('display.max_rows', 300)"
     ],
     "language": "python",
     "metadata": {},
     "outputs": [
      {
       "output_type": "stream",
       "stream": "stdout",
       "text": [
        "3.3.5 |Anaconda 1.9.2 (x86_64)| (default, Mar 10 2014, 11:22:25) \n",
        "[GCC 4.0.1 (Apple Inc. build 5493)]\n"
       ]
      }
     ],
     "prompt_number": 2
    },
    {
     "cell_type": "code",
     "collapsed": false,
     "input": [],
     "language": "python",
     "metadata": {},
     "outputs": [],
     "prompt_number": 3
    },
    {
     "cell_type": "code",
     "collapsed": false,
     "input": [],
     "language": "python",
     "metadata": {},
     "outputs": [],
     "prompt_number": 4
    },
    {
     "cell_type": "code",
     "collapsed": false,
     "input": [],
     "language": "python",
     "metadata": {},
     "outputs": [],
     "prompt_number": 21
    },
    {
     "cell_type": "code",
     "collapsed": false,
     "input": [
      "classes"
     ],
     "language": "python",
     "metadata": {},
     "outputs": [
      {
       "metadata": {},
       "output_type": "pyout",
       "prompt_number": 22,
       "text": [
        "{'B-ORG', 'B-PER', 'I-ORG', 'I-PER', 'O'}"
       ]
      }
     ],
     "prompt_number": 22
    },
    {
     "cell_type": "code",
     "collapsed": false,
     "input": [
      "def calc_measures(truth, pred):\n",
      "    truth_true = set(truth[truth].index)\n",
      "    truth_false = set(truth[truth == False].index)\n",
      "    pred_true = set(pred[pred].index)\n",
      "    pred_false = set(pred[pred == False].index)\n",
      "    tp = len(truth_true.intersection(pred_true))\n",
      "    fp = len(pred_true - truth_true)\n",
      "    tn = len(truth_false.intersection(pred_false))    \n",
      "    fn = len(pred_false - truth_false)\n",
      "    accuracy =  (tp + tn) / (tp + tn + fp + fn)\n",
      "    recall = tp / (tp + fn)\n",
      "    fm = 2 * accuracy * recall / (accuracy + recall) \n",
      "    precision = tp / (tp + fp) if (tp + fp) != 0 else 0\n",
      "    return pd.Series([accuracy, recall, fm,precision], index = [\"accuracy\",\"recall\",\"Fm\",\"precision\"])\n",
      "    \n",
      "    "
     ],
     "language": "python",
     "metadata": {},
     "outputs": [],
     "prompt_number": 103
    },
    {
     "cell_type": "code",
     "collapsed": false,
     "input": [
      "def calc_table(filename = \"result\"):\n",
      "    df = pd.read_csv(filename,sep=\"\\t\",header=None)\n",
      "    df = df.dropna(axis = 0,subset = [3])\n",
      "    classes = set(df[df.shape[1]-2])\n",
      "    results = pd.DataFrame()\n",
      "    for label in classes:\n",
      "        truth = df[df.shape[1]-2] == label\n",
      "        pred = df[df.shape[1]-1] == label\n",
      "        results[label] = calc_measures(truth,pred)\n",
      "    return results\n",
      "\n",
      "    "
     ],
     "language": "python",
     "metadata": {},
     "outputs": [],
     "prompt_number": 30
    },
    {
     "cell_type": "code",
     "collapsed": false,
     "input": [
      "calc_table()"
     ],
     "language": "python",
     "metadata": {},
     "outputs": [
      {
       "html": [
        "<div style=\"max-height:1000px;max-width:1500px;overflow:auto;\">\n",
        "<table border=\"1\" class=\"dataframe\">\n",
        "  <thead>\n",
        "    <tr style=\"text-align: right;\">\n",
        "      <th></th>\n",
        "      <th>I-ORG</th>\n",
        "      <th>B-PER</th>\n",
        "      <th>O</th>\n",
        "      <th>I-PER</th>\n",
        "      <th>B-ORG</th>\n",
        "    </tr>\n",
        "  </thead>\n",
        "  <tbody>\n",
        "    <tr>\n",
        "      <th>accuracy</th>\n",
        "      <td> 0.982734</td>\n",
        "      <td> 0.990868</td>\n",
        "      <td> 0.959475</td>\n",
        "      <td> 0.992865</td>\n",
        "      <td> 0.982734</td>\n",
        "    </tr>\n",
        "    <tr>\n",
        "      <th>recall</th>\n",
        "      <td> 0.380682</td>\n",
        "      <td> 0.209877</td>\n",
        "      <td> 0.992147</td>\n",
        "      <td> 0.925926</td>\n",
        "      <td> 0.546798</td>\n",
        "    </tr>\n",
        "    <tr>\n",
        "      <th>Fm</th>\n",
        "      <td> 0.548782</td>\n",
        "      <td> 0.346385</td>\n",
        "      <td> 0.975537</td>\n",
        "      <td> 0.958228</td>\n",
        "      <td> 0.702642</td>\n",
        "    </tr>\n",
        "    <tr>\n",
        "      <th>precision</th>\n",
        "      <td> 0.848101</td>\n",
        "      <td> 1.000000</td>\n",
        "      <td> 0.965099</td>\n",
        "      <td> 0.520833</td>\n",
        "      <td> 0.792857</td>\n",
        "    </tr>\n",
        "  </tbody>\n",
        "</table>\n",
        "<p>4 rows \u00d7 5 columns</p>\n",
        "</div>"
       ],
       "metadata": {},
       "output_type": "pyout",
       "prompt_number": 62,
       "text": [
        "              I-ORG     B-PER         O     I-PER     B-ORG\n",
        "accuracy   0.982734  0.990868  0.959475  0.992865  0.982734\n",
        "recall     0.380682  0.209877  0.992147  0.925926  0.546798\n",
        "Fm         0.548782  0.346385  0.975537  0.958228  0.702642\n",
        "precision  0.848101  1.000000  0.965099  0.520833  0.792857\n",
        "\n",
        "[4 rows x 5 columns]"
       ]
      }
     ],
     "prompt_number": 62
    },
    {
     "cell_type": "code",
     "collapsed": false,
     "input": [
      "cv_folds = 10"
     ],
     "language": "python",
     "metadata": {},
     "outputs": [],
     "prompt_number": 80
    },
    {
     "cell_type": "code",
     "collapsed": false,
     "input": [
      "learn_prefix = \"ru_corpus_learn\""
     ],
     "language": "python",
     "metadata": {},
     "outputs": [],
     "prompt_number": 39
    },
    {
     "cell_type": "code",
     "collapsed": false,
     "input": [
      "learn = lambda i: \"{}-{}-{}\".format(learn_prefix,i,\"learn\")\n",
      "test = lambda i:  \"{}-{}-{}\".format(learn_prefix,i,\"test\")"
     ],
     "language": "python",
     "metadata": {},
     "outputs": [],
     "prompt_number": 43
    },
    {
     "cell_type": "code",
     "collapsed": false,
     "input": [],
     "language": "python",
     "metadata": {},
     "outputs": [],
     "prompt_number": 64
    },
    {
     "cell_type": "code",
     "collapsed": false,
     "input": [
      "def run_crf(i,c = 1.0):\n",
      "    crf_learn = \"crf_learn -c {} template {} model\".format(c,learn(i))\n",
      "    crf_test = \"crf_test -m model {} > result-{}\".format(test(i),i)\n",
      "    subprocess.call(crf_learn, shell=True)\n",
      "    subprocess.call(crf_test, shell=True)\n",
      "    return calc_table(\"result-{}\".format(i))"
     ],
     "language": "python",
     "metadata": {},
     "outputs": [],
     "prompt_number": 67
    },
    {
     "cell_type": "code",
     "collapsed": false,
     "input": [
      "def cv_parametr(c):\n",
      "    result = pd.DataFrame()\n",
      "    for i in range(0, cv_folds):\n",
      "        #print(i)\n",
      "        result[i] = run_crf(i,c).mean(axis=1)\n",
      "    return result.mean(axis=1)\n",
      "        "
     ],
     "language": "python",
     "metadata": {},
     "outputs": [],
     "prompt_number": 107
    },
    {
     "cell_type": "code",
     "collapsed": false,
     "input": [
      "results = pd.DataFrame()"
     ],
     "language": "python",
     "metadata": {},
     "outputs": [],
     "prompt_number": 108
    },
    {
     "cell_type": "code",
     "collapsed": false,
     "input": [
      "? np.linspace"
     ],
     "language": "python",
     "metadata": {},
     "outputs": [],
     "prompt_number": 109
    },
    {
     "cell_type": "code",
     "collapsed": false,
     "input": [
      "params = np.linspace(5e-1,10,100)"
     ],
     "language": "python",
     "metadata": {},
     "outputs": [],
     "prompt_number": 110
    },
    {
     "cell_type": "code",
     "collapsed": false,
     "input": [
      "for c in params:\n",
      "    results[c]  = cv_parametr(c)"
     ],
     "language": "python",
     "metadata": {},
     "outputs": []
    },
    {
     "cell_type": "code",
     "collapsed": false,
     "input": [
      "res"
     ],
     "language": "python",
     "metadata": {},
     "outputs": []
    },
    {
     "cell_type": "code",
     "collapsed": false,
     "input": [],
     "language": "python",
     "metadata": {},
     "outputs": [],
     "prompt_number": 106
    },
    {
     "cell_type": "code",
     "collapsed": false,
     "input": [],
     "language": "python",
     "metadata": {},
     "outputs": []
    }
   ],
   "metadata": {}
  }
 ]
}